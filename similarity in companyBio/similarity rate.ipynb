{
 "cells": [
  {
   "cell_type": "code",
   "execution_count": 3,
   "metadata": {},
   "outputs": [],
   "source": [
    "import pandas as pd\n",
    "import numpy as np\n",
    "from sklearn.metrics.pairwise import cosine_similarity\n",
    "from sklearn.feature_extraction.text import CountVectorizer\n"
   ]
  },
  {
   "cell_type": "code",
   "execution_count": 4,
   "metadata": {},
   "outputs": [],
   "source": [
    "df = pd.read_csv('E:\\company_bio.csv',engine='python')"
   ]
  },
  {
   "cell_type": "code",
   "execution_count": 5,
   "metadata": {},
   "outputs": [
    {
     "data": {
      "text/html": [
       "<div>\n",
       "<style scoped>\n",
       "    .dataframe tbody tr th:only-of-type {\n",
       "        vertical-align: middle;\n",
       "    }\n",
       "\n",
       "    .dataframe tbody tr th {\n",
       "        vertical-align: top;\n",
       "    }\n",
       "\n",
       "    .dataframe thead th {\n",
       "        text-align: right;\n",
       "    }\n",
       "</style>\n",
       "<table border=\"1\" class=\"dataframe\">\n",
       "  <thead>\n",
       "    <tr style=\"text-align: right;\">\n",
       "      <th></th>\n",
       "      <th>company_name</th>\n",
       "      <th>Bio</th>\n",
       "    </tr>\n",
       "  </thead>\n",
       "  <tbody>\n",
       "    <tr>\n",
       "      <th>0</th>\n",
       "      <td>1</td>\n",
       "      <td>We are a Web Design &amp; Development | Mobile App...</td>\n",
       "    </tr>\n",
       "    <tr>\n",
       "      <th>1</th>\n",
       "      <td>2</td>\n",
       "      <td>We think big, design smart and develop fast. W...</td>\n",
       "    </tr>\n",
       "    <tr>\n",
       "      <th>2</th>\n",
       "      <td>3</td>\n",
       "      <td>In 2007 we began building mobile applications....</td>\n",
       "    </tr>\n",
       "    <tr>\n",
       "      <th>3</th>\n",
       "      <td>4</td>\n",
       "      <td>We think big, design smart and develop fast. W...</td>\n",
       "    </tr>\n",
       "    <tr>\n",
       "      <th>4</th>\n",
       "      <td>5</td>\n",
       "      <td>Appster is the fastest growing app development...</td>\n",
       "    </tr>\n",
       "    <tr>\n",
       "      <th>5</th>\n",
       "      <td>6</td>\n",
       "      <td>NMG is a global full-cycle software developmen...</td>\n",
       "    </tr>\n",
       "    <tr>\n",
       "      <th>6</th>\n",
       "      <td>7</td>\n",
       "      <td>Nextyug India E-Consultants is a renowned name...</td>\n",
       "    </tr>\n",
       "    <tr>\n",
       "      <th>7</th>\n",
       "      <td>8</td>\n",
       "      <td>Vethics Solutions LLP is a diversified global ...</td>\n",
       "    </tr>\n",
       "    <tr>\n",
       "      <th>8</th>\n",
       "      <td>9</td>\n",
       "      <td>Driven by the mission of 'Helping Clients Succ...</td>\n",
       "    </tr>\n",
       "    <tr>\n",
       "      <th>9</th>\n",
       "      <td>10</td>\n",
       "      <td>Nextyug India E-Consultants is a renowned name...</td>\n",
       "    </tr>\n",
       "  </tbody>\n",
       "</table>\n",
       "</div>"
      ],
      "text/plain": [
       "   company_name                                                Bio\n",
       "0             1  We are a Web Design & Development | Mobile App...\n",
       "1             2  We think big, design smart and develop fast. W...\n",
       "2             3  In 2007 we began building mobile applications....\n",
       "3             4  We think big, design smart and develop fast. W...\n",
       "4             5  Appster is the fastest growing app development...\n",
       "5             6  NMG is a global full-cycle software developmen...\n",
       "6             7  Nextyug India E-Consultants is a renowned name...\n",
       "7             8  Vethics Solutions LLP is a diversified global ...\n",
       "8             9  Driven by the mission of 'Helping Clients Succ...\n",
       "9            10  Nextyug India E-Consultants is a renowned name..."
      ]
     },
     "execution_count": 5,
     "metadata": {},
     "output_type": "execute_result"
    }
   ],
   "source": [
    "df.head(10)"
   ]
  },
  {
   "cell_type": "code",
   "execution_count": 6,
   "metadata": {},
   "outputs": [
    {
     "name": "stderr",
     "output_type": "stream",
     "text": [
      "[nltk_data] Downloading package stopwords to\n",
      "[nltk_data]     C:\\Users\\User\\AppData\\Roaming\\nltk_data...\n",
      "[nltk_data]   Package stopwords is already up-to-date!\n"
     ]
    }
   ],
   "source": [
    "import re\n",
    "import nltk\n",
    "nltk.download('stopwords')\n",
    "from nltk.corpus import stopwords\n",
    "from nltk.stem.porter import PorterStemmer\n",
    "corpus = []\n",
    "for i in range(10):\n",
    "    review = re.sub('[^a-zA-Z]', ' ', df['Bio'][i])\n",
    "    review = review.lower()\n",
    "    review = review.split()\n",
    "    ps = PorterStemmer()\n",
    "    review = [ps.stem(word) for word in review if not word in set(stopwords.words('english'))]\n",
    "    review = ' '.join(review)\n",
    "    corpus.append(review)"
   ]
  },
  {
   "cell_type": "code",
   "execution_count": 7,
   "metadata": {},
   "outputs": [],
   "source": [
    "from sklearn.feature_extraction.text import CountVectorizer\n",
    "cv = CountVectorizer(max_features = 1500)\n",
    "X = cv.fit_transform(corpus).toarray()"
   ]
  },
  {
   "cell_type": "code",
   "execution_count": 8,
   "metadata": {},
   "outputs": [
    {
     "data": {
      "text/plain": [
       "array([0, 1, 0, 0, 0, 2, 1, 0, 0, 0, 0, 0, 1, 0, 0, 0, 0, 0, 0, 0, 0, 0,\n",
       "       0, 0, 0, 0, 0, 0, 1, 0, 0, 1, 0, 1, 1, 1, 0, 0, 0, 0, 1, 0, 0, 0,\n",
       "       0, 0, 2, 0, 0, 2, 4, 0, 0, 0, 0, 1, 0, 0, 1, 0, 0, 0, 0, 0, 1, 0,\n",
       "       0, 0, 0, 0, 0, 0, 0, 1, 0, 2, 0, 0, 0, 0, 0, 0, 0, 0, 2, 0, 0, 0,\n",
       "       0, 0, 0, 1, 0, 0, 0, 0, 0, 1, 0, 0, 1, 0, 0, 0, 0, 0, 0, 0, 0, 0,\n",
       "       0, 0, 0, 1, 0, 0, 0, 0, 0, 0, 0, 0, 0, 0, 0, 0, 0, 0, 0, 0, 2, 0,\n",
       "       0, 0, 0, 0, 1, 0, 0, 0, 1, 0, 0, 0, 0, 0, 1, 0, 0, 0, 0, 1, 1, 0,\n",
       "       0, 1, 1, 0, 1, 0, 1, 1, 0, 0, 0, 0, 0, 1, 0, 0, 0, 0, 0, 1, 0, 0,\n",
       "       0, 2, 0, 0, 0, 0, 1, 2, 1, 1, 0, 0, 0, 0, 0, 0, 1, 0, 0, 0, 0, 0,\n",
       "       0, 0, 1, 0, 0, 1, 0, 0, 0, 0, 0, 1, 0, 0, 0, 0, 3, 0, 0, 0, 0, 1,\n",
       "       1], dtype=int64)"
      ]
     },
     "execution_count": 8,
     "metadata": {},
     "output_type": "execute_result"
    }
   ],
   "source": [
    "X[0]\n"
   ]
  },
  {
   "cell_type": "code",
   "execution_count": 9,
   "metadata": {},
   "outputs": [
    {
     "data": {
      "text/plain": [
       "['web design develop mobil app e commerc compani person world class mobil web solut busi proven expertis dozen success complet project agil softwar develop process accord corpor standard offer custom high qualiti servic afford price promis quick turnaround time great custom servic origin design develop specialti lie year experi effici human resourc expertis develop user friendli afford search engin friendli web solut',\n",
       " 'think big design smart develop fast creat bespok mobil solut evalu busi aspect mobil endeavour maxim potenti discoveri digit innov extens fort gain android io platform develop made us reliabl partner enterpris well start up year experienc engin team develop creativ result driven solut',\n",
       " 'began build mobil applic today built willowtre believ simpl goal deliv best mobil develop servic client belief ensur mobil app project run smoothli strateg predicat made us recogn one top app develop compani industri build best app possibl critic process take',\n",
       " 'think big design smart develop fast creat bespok mobil solut evalu busi aspect mobil endeavour maxim potenti discoveri digit innov extens fort gain android io platform develop made us reliabl partner enterpris well start up year experienc engin team develop creativ result driven solut',\n",
       " 'appster fastest grow app develop compani focu work peopl incred idea vision innov develop compani app ecosystem goal crowdsourc incred idea innov partner right peopl make happen empow everyday peopl build tech compani disrupt product even ha',\n",
       " 'nmg global full cycl softwar develop compani build advanc websit softwar mobil app use latest technolog sinc proud build strategi process help client achiev goal nmg chosen smart busi owner entrepreneur look take busi next level provid person form engag appoint team understand busi custom client abl creat scalabl app respond complex custom busi need',\n",
       " 'nextyug india e consult renown name consult servic feild compani establish compani serv client feild consult erp develop web design web develop digit market mobil applic develop',\n",
       " 'vethic solut llp diversifi global softwar develop outsourc compani give offshor onshor technolog solut busi enterpris around world vethic solut llp proven expertis encompass low cost high qualiti reliabl softwar solut servic area like consult offshor web develop busi applic includ e commerc e learn financ manufactur content manag mani busi system highli valu profession hold self strictli account repres client brand aim form long term work relationship graphic design anim websit develop mobil applic develop io android ui ux seo digit market logo design stationari design',\n",
       " 'driven mission help client succeed innov busi solut e technolog alletec lead provid busi technolog solut servic growth compani sinc recogn microsoft consist sinc amongst top microsoft busi solut partner india part global elit inner circl ls',\n",
       " 'nextyug india e consult renown name consult servic feild compani establish compani serv client feild consult erp develop web design web develop digit market mobil applic develop']"
      ]
     },
     "execution_count": 9,
     "metadata": {},
     "output_type": "execute_result"
    }
   ],
   "source": [
    "corpus"
   ]
  },
  {
   "cell_type": "code",
   "execution_count": 10,
   "metadata": {},
   "outputs": [],
   "source": [
    "j=0\n",
    "k=0\n",
    "global_list =[]\n",
    "for j in range (10):\n",
    "    temp=[]\n",
    "    for k in range (10):\n",
    "       sum=0\n",
    "       magnitude1=0\n",
    "       magnitude2=0\n",
    "       for i in range(220):\n",
    "         sum= sum+X[j][i]*X[k][i]\n",
    "         magnitude1=magnitude1+X[j][i]*X[j][i]\n",
    "         magnitude2=magnitude2+X[k][i]*X[k][i]\n",
    "      \n",
    "       magnitude=(magnitude1**.5)*(magnitude2**0.5)\n",
    "       y=sum/magnitude\n",
    "       temp.append(y)\n",
    "    global_list.append(temp)"
   ]
  },
  {
   "cell_type": "code",
   "execution_count": 11,
   "metadata": {},
   "outputs": [],
   "source": [
    "myarray = np.asarray(global_list)"
   ]
  },
  {
   "cell_type": "code",
   "execution_count": 12,
   "metadata": {},
   "outputs": [
    {
     "data": {
      "text/plain": [
       "array([1.        , 0.34002385, 0.29541514, 0.34002385, 0.17456349,\n",
       "       0.24369231, 0.40428077, 0.45057846, 0.16843038, 0.40428077])"
      ]
     },
     "execution_count": 12,
     "metadata": {},
     "output_type": "execute_result"
    }
   ],
   "source": [
    "myarray[0]"
   ]
  },
  {
   "cell_type": "code",
   "execution_count": 13,
   "metadata": {},
   "outputs": [],
   "source": [
    "myarray = pd.DataFrame(myarray).to_csv(r'C:\\Users\\User\\Desktop\\titanic\\prediction.csv')"
   ]
  },
  {
   "cell_type": "code",
   "execution_count": null,
   "metadata": {},
   "outputs": [],
   "source": []
  }
 ],
 "metadata": {
  "kernelspec": {
   "display_name": "Python 3",
   "language": "python",
   "name": "python3"
  },
  "language_info": {
   "codemirror_mode": {
    "name": "ipython",
    "version": 3
   },
   "file_extension": ".py",
   "mimetype": "text/x-python",
   "name": "python",
   "nbconvert_exporter": "python",
   "pygments_lexer": "ipython3",
   "version": "3.7.3"
  }
 },
 "nbformat": 4,
 "nbformat_minor": 2
}
